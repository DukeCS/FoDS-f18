{
 "cells": [
  {
   "cell_type": "markdown",
   "metadata": {},
   "source": [
    "# Test 1 Solutions"
   ]
  },
  {
   "cell_type": "code",
   "execution_count": 58,
   "metadata": {},
   "outputs": [],
   "source": [
    "from datascience import *\n",
    "import numpy as np\n",
    "import math"
   ]
  },
  {
   "cell_type": "markdown",
   "metadata": {},
   "source": [
    "## 1. T/F"
   ]
  },
  {
   "cell_type": "code",
   "execution_count": null,
   "metadata": {},
   "outputs": [],
   "source": []
  },
  {
   "cell_type": "markdown",
   "metadata": {},
   "source": [
    "## 2. Expressions"
   ]
  },
  {
   "cell_type": "code",
   "execution_count": 7,
   "metadata": {},
   "outputs": [
    {
     "data": {
      "text/html": [
       "<table border=\"1\" class=\"dataframe\">\n",
       "    <thead>\n",
       "        <tr>\n",
       "            <th>First</th> <th>Second</th> <th>Third</th> <th>Fourth</th>\n",
       "        </tr>\n",
       "    </thead>\n",
       "    <tbody>\n",
       "        <tr>\n",
       "            <td>a    </td> <td>0     </td> <td>a    </td> <td>a     </td>\n",
       "        </tr>\n",
       "        <tr>\n",
       "            <td>b    </td> <td>6     </td> <td>b    </td> <td>d     </td>\n",
       "        </tr>\n",
       "        <tr>\n",
       "            <td>c    </td> <td>4     </td> <td>c    </td> <td>c     </td>\n",
       "        </tr>\n",
       "        <tr>\n",
       "            <td>d    </td> <td>4     </td> <td>d    </td> <td>c     </td>\n",
       "        </tr>\n",
       "    </tbody>\n",
       "</table>"
      ],
      "text/plain": [
       "First | Second | Third | Fourth\n",
       "a     | 0      | a     | a\n",
       "b     | 6      | b     | d\n",
       "c     | 4      | c     | c\n",
       "d     | 4      | d     | c"
      ]
     },
     "execution_count": 7,
     "metadata": {},
     "output_type": "execute_result"
    }
   ],
   "source": [
    "a = make_array(0, 3, 2, 2)\n",
    "b = make_array(2, 2, 2, 2)\n",
    "c = make_array('a','b','c','d')\n",
    "\n",
    "t = Table().with_columns(\n",
    "  \"First\", c,\n",
    "  \"Second\", a*b,\n",
    "  \"Third\", c,\n",
    "  \"Fourth\", make_array(c.item(a.item(0)), c.item(a.item(1)),\n",
    "                      c.item(a.item(2)), c.item(a.item(3)))\n",
    "   \n",
    ") \n",
    "t"
   ]
  },
  {
   "cell_type": "markdown",
   "metadata": {},
   "source": [
    "## 3. Functions"
   ]
  },
  {
   "cell_type": "code",
   "execution_count": 59,
   "metadata": {},
   "outputs": [],
   "source": [
    "def pyrvolume(s, h):\n",
    "    \"\"\"\n",
    "    return volume of pyramid with side s and height h\n",
    "    \"\"\" \n",
    "    return s*s*h/3\n",
    "\n",
    "def pyrsurface(s, h):\n",
    "    \"\"\"\n",
    "    return surface area of pyramid with side s and height h\n",
    "    \"\"\" \n",
    "    return s*s + 2*s*math.sqrt((s*s)/4 + h*h)"
   ]
  },
  {
   "cell_type": "code",
   "execution_count": 60,
   "metadata": {},
   "outputs": [
    {
     "data": {
      "text/plain": [
       "12.94427190999916"
      ]
     },
     "execution_count": 60,
     "metadata": {},
     "output_type": "execute_result"
    }
   ],
   "source": [
    "pyrsurface(2,2)"
   ]
  },
  {
   "cell_type": "markdown",
   "metadata": {},
   "source": [
    "## 4. Movie Tables"
   ]
  },
  {
   "cell_type": "code",
   "execution_count": 25,
   "metadata": {},
   "outputs": [
    {
     "data": {
      "text/plain": [
       "\"Singin' in the Rain\""
      ]
     },
     "execution_count": 25,
     "metadata": {},
     "output_type": "execute_result"
    }
   ],
   "source": [
    "imdb = Table.read_table('imdb.csv')\n",
    "# 4.1\n",
    "lowest_rating = min(imdb.column('Rating'))\n",
    "\n",
    "# 4.2\n",
    "elite_movie = imdb.where('Rating', are.above_or_equal_to(9.0)).num_rows\n",
    "\n",
    "# 4.3\n",
    "ave_rating = imdb.column('Rating').mean()\n",
    "imdb = imdb.with_column('Diff', abs(imdb.column('Rating')-ave_rating))\n",
    "imdb.sort('Diff').column('Title').item(0)"
   ]
  },
  {
   "cell_type": "markdown",
   "metadata": {},
   "source": [
    "## 5. Uber Tables"
   ]
  },
  {
   "cell_type": "code",
   "execution_count": 38,
   "metadata": {},
   "outputs": [
    {
     "name": "stderr",
     "output_type": "stream",
     "text": [
      "/anaconda3/lib/python3.6/site-packages/matplotlib/axes/_axes.py:6462: UserWarning: The 'normed' kwarg is deprecated, and has been replaced by the 'density' kwarg.\n",
      "  warnings.warn(\"The 'normed' kwarg is deprecated, and has been \"\n"
     ]
    },
    {
     "data": {
      "text/plain": [
       "array([0., 0., 0., ..., 0., 0., 0.])"
      ]
     },
     "execution_count": 38,
     "metadata": {},
     "output_type": "execute_result"
    }
   ],
   "source": [
    "boston = Table.read_table(\"boston.csv\")\n",
    "manila = Table.read_table('manila.csv')\n",
    "bins = np.arange(0, 120, 5)\n",
    "boston.hist(\"ride time\",bins=bins,unit=\"Minutes\")\n",
    "\n",
    "# 5.3\n",
    "short_rides = boston.where('ride time', are.below(15)).num_rows/boston.num_rows\n",
    "\n",
    "# 5.4\n",
    "boston.group(['sourceid', 'hod']).column('count').max()\n",
    "\n",
    "# 5.5\n",
    "def dist(start, end):\n",
    "  \"\"\"\n",
    "  Returns the distance in miles between sourceid start and the destid end\n",
    "  \"\"\"\n",
    "  return 0\n",
    "\n",
    "bs = boston.apply(dist, 'sourceid', 'dstid')/boston.column('ride time')\n",
    "ms = manila.apply(dist, 'sourceid', 'dstid')/manila.column('ride time')"
   ]
  },
  {
   "cell_type": "markdown",
   "metadata": {},
   "source": [
    "## 6. NBA"
   ]
  },
  {
   "cell_type": "code",
   "execution_count": 50,
   "metadata": {},
   "outputs": [],
   "source": [
    "nba = Table.read_table('nba_salaries_16.csv').relabeled(3, 'SALARY')\n",
    "# 6.1\n",
    "def salary(p):\n",
    "    return nba.where('PLAYER', p).column('SALARY').item(0) * 1e6\n",
    "\n",
    "# 6.2\n",
    "superteams = nba.where('SALARY', are.above(10)).group('TEAM').where('count',are.above(2)).num_rows\n",
    "\n",
    "# 6.3\n",
    "startsal = nba.pivot('POSITION', 'TEAM',values='SALARY', collect=np.max)\n"
   ]
  },
  {
   "cell_type": "code",
   "execution_count": 49,
   "metadata": {},
   "outputs": [
    {
     "data": {
      "text/plain": [
       "12000000.0"
      ]
     },
     "execution_count": 49,
     "metadata": {},
     "output_type": "execute_result"
    }
   ],
   "source": [
    "salary('Al Horford')"
   ]
  }
 ],
 "metadata": {
  "kernelspec": {
   "display_name": "Python 3",
   "language": "python",
   "name": "python3"
  },
  "language_info": {
   "codemirror_mode": {
    "name": "ipython",
    "version": 3
   },
   "file_extension": ".py",
   "mimetype": "text/x-python",
   "name": "python",
   "nbconvert_exporter": "python",
   "pygments_lexer": "ipython3",
   "version": "3.6.5"
  }
 },
 "nbformat": 4,
 "nbformat_minor": 2
}
