{
 "cells": [
  {
   "cell_type": "markdown",
   "metadata": {},
   "source": [
    "# Lab 6: Probability, Simulation, and Estimation"
   ]
  },
  {
   "cell_type": "markdown",
   "metadata": {},
   "source": [
    "**Reading**: Textbook chapters [9](https://dukecs.github.io/textbook/chapters/09/randomness.html) and [10](https://dukecs.github.io/textbook/chapters/10/sampling-and-empirical-distributions.html), and [11](https://dukecs.github.io/textbook/chapters/11/testing-hypotheses.html).\n",
    "First, set up the tests and imports by running the cell below."
   ]
  },
  {
   "cell_type": "code",
   "execution_count": null,
   "metadata": {
    "collapsed": true
   },
   "outputs": [],
   "source": [
    "# Don't change this cell; just run it. \n",
    "\n",
    "import numpy as np\n",
    "from datascience import *\n",
    "\n",
    "# These lines do some fancy plotting magic.\n",
    "import matplotlib\n",
    "%matplotlib inline\n",
    "import matplotlib.pyplot as plt\n",
    "plt.style.use('fivethirtyeight')\n",
    "import warnings\n",
    "warnings.simplefilter('ignore', FutureWarning)\n",
    "\n",
    "from client.api.notebook import Notebook\n",
    "ok = Notebook('lab06.ok')\n",
    "_ = ok.auth(inline=True)"
   ]
  },
  {
   "cell_type": "markdown",
   "metadata": {},
   "source": [
    "## 0. Unrolling Loops"
   ]
  },
  {
   "cell_type": "markdown",
   "metadata": {},
   "source": [
    "\"Unrolling\" a `for` loop means to manually write out all the code that it executes.  The result is code that does the same thing as the loop, but without the structure of the loop.  For example, for the following loop:\n",
    "\n",
    "    for num in np.arange(3):\n",
    "        print(\"The number is\", num)\n",
    "\n",
    "The unrolled version would look like this:\n",
    "\n",
    "    print(\"The number is\", 0)\n",
    "    print(\"The number is\", 1)\n",
    "    print(\"The number is\", 2)\n",
    "\n",
    "\n",
    "Unrolling a `for` loop is a great way to understand what the loop is doing during each step. In this exercise, you'll practice unrolling `for` loops.\n",
    "\n",
    "\n",
    "In each question below, write code that does the same thing as the given code, but with any `for` loops unrolled.  It's a good idea to run both your answer and the original code to verify that they do the same thing.  (Of course, if the code does something random, you'll get a different random outcome than the original code!)\n",
    "\n",
    "First, run the cell below to load data that will be used in a few questions.  It's a table with 52 rows, one for each type of card in a deck of playing cards.  A playing card has a \"suit\" (\"♠︎\", \"♣︎\", \"♥︎\", or \"♦︎\") and a \"rank\" (2 through 10, J, Q, K, or A).  There are 4 suits and 13 ranks, so there are $4 \\times 13 = 52$ different cards."
   ]
  },
  {
   "cell_type": "code",
   "execution_count": 0,
   "metadata": {},
   "outputs": [
    {
     "data": {
      "text/html": [
       "<table border=\"1\" class=\"dataframe\">\n",
       "    <thead>\n",
       "        <tr>\n",
       "            <th>Rank</th> <th>Suit</th>\n",
       "        </tr>\n",
       "    </thead>\n",
       "    <tbody>\n",
       "        <tr>\n",
       "            <td>2   </td> <td>♠︎  </td>\n",
       "        </tr>\n",
       "        <tr>\n",
       "            <td>2   </td> <td>♣︎  </td>\n",
       "        </tr>\n",
       "        <tr>\n",
       "            <td>2   </td> <td>♥︎  </td>\n",
       "        </tr>\n",
       "        <tr>\n",
       "            <td>2   </td> <td>♦︎  </td>\n",
       "        </tr>\n",
       "        <tr>\n",
       "            <td>3   </td> <td>♠︎  </td>\n",
       "        </tr>\n",
       "        <tr>\n",
       "            <td>3   </td> <td>♣︎  </td>\n",
       "        </tr>\n",
       "        <tr>\n",
       "            <td>3   </td> <td>♥︎  </td>\n",
       "        </tr>\n",
       "        <tr>\n",
       "            <td>3   </td> <td>♦︎  </td>\n",
       "        </tr>\n",
       "        <tr>\n",
       "            <td>4   </td> <td>♠︎  </td>\n",
       "        </tr>\n",
       "        <tr>\n",
       "            <td>4   </td> <td>♣︎  </td>\n",
       "        </tr>\n",
       "    </tbody>\n",
       "</table>\n",
       "<p>... (42 rows omitted)</p>"
      ],
      "text/plain": [
       "Rank | Suit\n",
       "2    | ♠︎\n",
       "2    | ♣︎\n",
       "2    | ♥︎\n",
       "2    | ♦︎\n",
       "3    | ♠︎\n",
       "3    | ♣︎\n",
       "3    | ♥︎\n",
       "3    | ♦︎\n",
       "4    | ♠︎\n",
       "4    | ♣︎\n",
       "... (42 rows omitted)"
      ]
     },
     "execution_count": 2,
     "metadata": {},
     "output_type": "execute_result"
    }
   ],
   "source": [
    "deck = Table.read_table(\"deck.csv\")\n",
    "deck"
   ]
  },
  {
   "cell_type": "markdown",
   "metadata": {
    "deletable": false
   },
   "source": [
    "**Question 1.** Unroll the code below.\n",
    "\n",
    "*Note:* `np.random.randint` returns a random integer between 0 (inclusive) and the value that's passed in (exclusive)."
   ]
  },
  {
   "cell_type": "code",
   "execution_count": 4,
   "metadata": {},
   "outputs": [],
   "source": [
    "# This table will hold the cards in a randomly-drawn hand of\n",
    "# 5 cards.  We simulate cards being drawn as follows: We draw\n",
    "# a card at random from the deck, make a copy of it, put the\n",
    "# copy in our hand, and put the card back in the deck.  That\n",
    "# means we might draw the same card multiple times, which is\n",
    "# different from a normal draw in most card games.\n",
    "hand = Table().with_columns(\"Rank\", make_array(), \"Suit\", make_array())\n",
    "for suit in np.arange(5):\n",
    "    card = deck.row(np.random.randint(deck.num_rows))\n",
    "    hand.append(card)\n",
    "hand"
   ]
  },
  {
   "cell_type": "code",
   "execution_count": 6,
   "metadata": {
    "collapsed": true,
    "for_assignment_type": "student"
   },
   "outputs": [],
   "source": [
    "hand = Table().with_columns(\"Rank\", make_array(), \"Suit\", make_array())\n",
    "..."
   ]
  },
  {
   "cell_type": "code",
   "execution_count": 11,
   "metadata": {
    "deletable": false
   },
   "outputs": [],
   "source": [
    "_ = ok.grade('q0_1')"
   ]
  },
  {
   "cell_type": "markdown",
   "metadata": {},
   "source": [
    "**Question 2.** Unroll the code below."
   ]
  },
  {
   "cell_type": "code",
   "execution_count": 0,
   "metadata": {},
   "outputs": [],
   "source": [
    "# This table will hold the cards in a randomly-drawn hand of\n",
    "# 4 cards.  The cards are drawn as follows: For each of the\n",
    "# 4 suits, we draw a random card of that suit and put it into\n",
    "# our hand.  The cards within a suit are drawn uniformly at\n",
    "# random, meaning each card of the suit has an equal chance of\n",
    "# being drawn.\n",
    "hand_of_4 = Table().with_columns(\"Rank\", make_array(), \"Suit\", make_array())\n",
    "for suit in make_array(\"♠︎\", \"♣︎\", \"♥︎\", \"♦︎\"):\n",
    "    cards_of_suit = deck.where(\"Suit\", are.equal_to(suit))\n",
    "    card = cards_of_suit.row(np.random.randint(cards_of_suit.num_rows))\n",
    "    hand_of_4.append(card)\n",
    "hand_of_4"
   ]
  },
  {
   "cell_type": "code",
   "execution_count": null,
   "metadata": {
    "collapsed": true,
    "for_assignment_type": "student"
   },
   "outputs": [],
   "source": [
    "..."
   ]
  },
  {
   "cell_type": "code",
   "execution_count": 10,
   "metadata": {},
   "outputs": [],
   "source": [
    "_ = ok.grade('q0_2')"
   ]
  },
  {
   "cell_type": "markdown",
   "metadata": {},
   "source": [
    "## 1. Monkeys Typing Shakespeare\n",
    "##### (...or at least the string \"datascience\")"
   ]
  },
  {
   "cell_type": "markdown",
   "metadata": {},
   "source": [
    "A monkey is banging repeatedly on the keys of a typewriter. Each time, the monkey is equally likely to hit any of the 26 lowercase letters of the English alphabet, regardless of what it has hit before. There are no other keys on the keyboard.\n",
    "\n",
    "**Question 1.** Suppose the monkey hits the keyboard 11 times.  Compute the chance that the monkey types the sequence `datascience`.  (Call this `datascience_chance`.) Use algebra and type in an arithmetic equation that Python can evalute."
   ]
  },
  {
   "cell_type": "code",
   "execution_count": 2,
   "metadata": {},
   "outputs": [],
   "source": [
    "datascience_chance = ...\n",
    "datascience_chance"
   ]
  },
  {
   "cell_type": "code",
   "execution_count": 4,
   "metadata": {},
   "outputs": [],
   "source": [
    "_ = ok.grade('q1_1')"
   ]
  },
  {
   "cell_type": "markdown",
   "metadata": {},
   "source": [
    "**Question 2.** Write a function called `simulate_key_strike`.  It should take **no arguments**, and it should return a random one-character string that is equally likely to be any of the 26 lower-case English letters. "
   ]
  },
  {
   "cell_type": "code",
   "execution_count": 5,
   "metadata": {},
   "outputs": [],
   "source": [
    "# We have provided the code below to compute a list called letters,\n",
    "# containing all the lower-case English letters.  Print it if you\n",
    "# want to verify what it contains.\n",
    "import string\n",
    "letters = list(string.ascii_lowercase)\n",
    "\n",
    "def simulate_key_strike():\n",
    "    \"\"\"Simulates one random key strike.\"\"\"\n",
    "    ...\n",
    "\n",
    "# An example call to your function:\n",
    "simulate_key_strike()"
   ]
  },
  {
   "cell_type": "code",
   "execution_count": 7,
   "metadata": {},
   "outputs": [],
   "source": [
    "_ = ok.grade('q1_2')"
   ]
  },
  {
   "cell_type": "markdown",
   "metadata": {},
   "source": [
    "**Question 3.** Write a function called `simulate_several_key_strikes`.  It should take one argument: an integer specifying the number of key strikes to simulate. It should return a string containing that many characters, each one obtained from simulating a key strike by the monkey.\n",
    "\n",
    "*Hint:* If you make a list or array of the simulated key strikes, you can convert that to a string by calling `\"\".join(key_strikes_array)` (if your array is called `key_strikes_array`)."
   ]
  },
  {
   "cell_type": "code",
   "execution_count": 8,
   "metadata": {
    "collapsed": true
   },
   "outputs": [],
   "source": [
    "def simulate_several_key_strikes(num_strikes):\n",
    "    # Fill in this function.  Our solution used several lines\n",
    "    # of code.\n",
    "    ...\n",
    "\n",
    "# An example call to your function:\n",
    "simulate_several_key_strikes(11)"
   ]
  },
  {
   "cell_type": "code",
   "execution_count": 11,
   "metadata": {},
   "outputs": [],
   "source": [
    "_ = ok.grade('q1_3')"
   ]
  },
  {
   "cell_type": "markdown",
   "metadata": {},
   "source": [
    "**Question 4.** Use `simulate_several_key_strikes` 1000 times, each time simulating the monkey striking 11 keys.  Compute the proportion of times the monkey types `\"datascience\"`, calling that proportion `datascience_proportion`."
   ]
  },
  {
   "cell_type": "code",
   "execution_count": 18,
   "metadata": {
    "for_assignment_type": "student"
   },
   "outputs": [],
   "source": [
    "# Our solution used several lines of code.\n",
    "...\n",
    "datascience_proportion = ...\n",
    "datascience_proportion"
   ]
  },
  {
   "cell_type": "code",
   "execution_count": 22,
   "metadata": {},
   "outputs": [],
   "source": [
    "_ = ok.grade('q1_4')"
   ]
  },
  {
   "cell_type": "markdown",
   "metadata": {},
   "source": [
    "**Question 5.** Check the value your simulation computed for `datascience_proportion`.  Is your simulation a good way to estimate the chance that the monkey types `\"datascience\"` in 11 strikes (the answer to question 1)?  Why or why not?"
   ]
  },
  {
   "cell_type": "markdown",
   "metadata": {
    "deletable": false,
    "manual_grade": true,
    "manual_problem_id": "monkeys_5"
   },
   "source": [
    "*Write your answer here, replacing this text.*"
   ]
  },
  {
   "cell_type": "markdown",
   "metadata": {},
   "source": [
    "**Question 6.** Compute the chance that the monkey types the letter `\"e\"` at least once in the 11 strikes.  Call it `e_chance`. Use algebra and type in an arithmetic equation that Python can evalute. "
   ]
  },
  {
   "cell_type": "code",
   "execution_count": 23,
   "metadata": {},
   "outputs": [],
   "source": [
    "e_chance = ...\n",
    "e_chance"
   ]
  },
  {
   "cell_type": "code",
   "execution_count": null,
   "metadata": {
    "collapsed": true
   },
   "outputs": [],
   "source": [
    "_ = ok.grade('q1_6')"
   ]
  },
  {
   "cell_type": "markdown",
   "metadata": {},
   "source": [
    "**Question 7.** In comparison to `datascience_chance`, do you think that a computer simulation would be a more or less effective way to estimate `e_chance`?  Why or why not?  (You don't need to write a simulation, but it is an interesting exercise.)"
   ]
  },
  {
   "cell_type": "markdown",
   "metadata": {
    "deletable": false,
    "manual_grade": true,
    "manual_problem_id": "monkeys_7"
   },
   "source": [
    "*Write your answer here, replacing this text.*"
   ]
  },
  {
   "cell_type": "markdown",
   "metadata": {},
   "source": [
    "## 2. Sampling Basketball Players\n"
   ]
  },
  {
   "cell_type": "markdown",
   "metadata": {},
   "source": [
    "This exercise uses salary data and game statistics for basketball players from the 2014-2015 NBA season. The data were collected from [basketball-reference](http://www.basketball-reference.com) and [spotrac](http://www.spotrac.com).\n",
    "\n",
    "Run the next cell to load the two datasets."
   ]
  },
  {
   "cell_type": "code",
   "execution_count": 3,
   "metadata": {},
   "outputs": [],
   "source": [
    "player_data = Table.read_table('player_data.csv')\n",
    "salary_data = Table.read_table('salary_data.csv')\n",
    "player_data.show(3)\n",
    "salary_data.show(3)"
   ]
  },
  {
   "cell_type": "markdown",
   "metadata": {},
   "source": [
    "** Question 0. ** LeBron James is drafting Basketball Players for his NBA Fantasy League. He chooses 10 times randomly from a list of players, and drafts the player regardless of whether the player has been chosen before (You could have 10 Kevin Durant's on a team!). Count how many times John Wall is chosen in a version of LeBron's draft."
   ]
  },
  {
   "cell_type": "code",
   "execution_count": null,
   "metadata": {
    "collapsed": true,
    "for_assignment_type": "student"
   },
   "outputs": [],
   "source": [
    "players = [\"John Wall\", \"Kevin Durant\", \"Kyrie Irving\", \"Joel Embiid\", \"Russell Westbrook\"]\n",
    "draft_picks = ...\n",
    "num_wall = ...\n",
    "\n",
    "for ... in ...:\n",
    "    ...\n",
    "\n",
    "num_wall"
   ]
  },
  {
   "cell_type": "code",
   "execution_count": null,
   "metadata": {
    "collapsed": true
   },
   "outputs": [],
   "source": [
    "_ = ok.grade('q2_0')"
   ]
  },
  {
   "cell_type": "markdown",
   "metadata": {},
   "source": [
    "**Question 1.** We would like to relate players' game statistics to their salaries.  Compute a table called `full_data` that includes one row for each player who is listed in both `player_data` and `salary_data`.  It should include all the columns from `player_data` and `salary_data`, except the `\"PlayerName\"` column."
   ]
  },
  {
   "cell_type": "code",
   "execution_count": 4,
   "metadata": {},
   "outputs": [],
   "source": [
    "full_data = ...\n",
    "full_data"
   ]
  },
  {
   "cell_type": "code",
   "execution_count": 5,
   "metadata": {},
   "outputs": [],
   "source": [
    "_ = ok.grade('q2_1')"
   ]
  },
  {
   "cell_type": "markdown",
   "metadata": {},
   "source": [
    "Basketball team managers would like to hire players who perform well but don't command high salaries.  From this perspective, a very crude measure of a player's *value* to their team is the number of points the player scored in a season for every **\\$1000 of salary** (*Note*: the `Salary` column is in dollars, not thousands of dollars). For example, Al Horford scored 1156 points and has a salary of \\$12 million. This is equivalent to 12,000 thousands of dollars, so his value is $\\frac{1156}{12000}$.\n",
    "\n",
    "**Question 2.** Create a table called `full_data_with_value` that's a copy of `full_data`, with an extra column called `\"Value\"` containing each player's value (according to our crude measure).  Then make a histogram of players' values.  **Specify bins that make the histogram informative, and don't forget your units!**\n",
    "\n",
    "*Hint*: Informative histograms contain a majority of the data and exclude outliers."
   ]
  },
  {
   "cell_type": "code",
   "execution_count": 6,
   "metadata": {
    "manual_grade": true,
    "manual_problem_id": "sampling_players_2"
   },
   "outputs": [],
   "source": [
    "full_data_with_value = ...\n",
    "..."
   ]
  },
  {
   "cell_type": "markdown",
   "metadata": {},
   "source": [
    "Now suppose we weren't able to find out every player's salary (perhaps it was too costly to interview each player).  Instead, we have gathered a *simple random sample* of 100 players' salaries.  The cell below loads those data."
   ]
  },
  {
   "cell_type": "code",
   "execution_count": 7,
   "metadata": {
    "scrolled": true
   },
   "outputs": [],
   "source": [
    "sample_salary_data = Table.read_table(\"sample_salary_data.csv\")\n",
    "sample_salary_data.show(3)"
   ]
  },
  {
   "cell_type": "markdown",
   "metadata": {},
   "source": [
    "**Question 3.** Make a histogram of the values of the players in `sample_salary_data`, using the same method for measuring value we used in question 2.  **Use the same bins, too.**  \n",
    "\n",
    "*Hint:* This will take several steps."
   ]
  },
  {
   "cell_type": "code",
   "execution_count": 8,
   "metadata": {
    "collapsed": true,
    "deletable": false,
    "for_assignment_type": "student",
    "manual_grade": true,
    "manual_problem_id": "sampling_players_3"
   },
   "outputs": [],
   "source": [
    "# Use this cell to make your histogram."
   ]
  },
  {
   "cell_type": "markdown",
   "metadata": {},
   "source": [
    "Now let us summarize what we have seen.  To guide you, we have written most of the summary already.\n",
    "\n",
    "**Question 4.** Complete the statements below by filling in the [SQUARE BRACKETS]. \n",
    "\n",
    "*Hint 1:* For a refresher on distribution types, check out [Section 10.1](https://dukecs.github.io/textbook/chapters/10/1/empirical-distributions.html)\n",
    "\n",
    "*Hint 2:* The `hist()` table method ignores data points outside the range of its bins, but you may ignore this fact and calculate the areas of the bars using what you know about histograms from lecture. "
   ]
  },
  {
   "cell_type": "markdown",
   "metadata": {
    "deletable": false,
    "for_assignment_type": "student",
    "manual_grade": true,
    "manual_problem_id": "sampling_players_4"
   },
   "source": [
    "The plot in question 2 displayed a(n) [DISTRIBUTION TYPE] distribution of the population of [A NUMBER] players.  The areas of the bars in the plot sum to [A NUMBER].\n",
    "\n",
    "The plot in question 3 displayed a(n) [DISTRIBUTION TYPE] distribution of the sample of [A NUMBER] players.  The areas of the bars in the plot sum to [A NUMBER]."
   ]
  },
  {
   "cell_type": "markdown",
   "metadata": {},
   "source": [
    "**Question 5.** For which range of values does the plot in question 3 better depict the distribution of the **population's player values**: 0 to 0.5, or above 0.5? "
   ]
  },
  {
   "cell_type": "markdown",
   "metadata": {
    "deletable": false,
    "manual_grade": true,
    "manual_problem_id": "sampling_players_5"
   },
   "source": [
    "*Write your answer here, replacing this text.*"
   ]
  },
  {
   "cell_type": "markdown",
   "metadata": {},
   "source": [
    "## 3. Submission\n"
   ]
  },
  {
   "cell_type": "markdown",
   "metadata": {
    "collapsed": true
   },
   "source": [
    "Once you're finished, select \"Save and Checkpoint\" in the File menu and then execute the `submit` cell below. The result will contain a link that you can use to check that your assignment has been submitted successfully. Please submit one copy per group!"
   ]
  },
  {
   "cell_type": "code",
   "execution_count": null,
   "metadata": {
    "collapsed": true
   },
   "outputs": [],
   "source": [
    "_ = ok.submit()"
   ]
  }
 ],
 "metadata": {
  "kernelspec": {
   "display_name": "Python 3",
   "language": "python",
   "name": "python3"
  },
  "language_info": {
   "codemirror_mode": {
    "name": "ipython",
    "version": 3
   },
   "file_extension": ".py",
   "mimetype": "text/x-python",
   "name": "python",
   "nbconvert_exporter": "python",
   "pygments_lexer": "ipython3",
   "version": "3.6.5"
  }
 },
 "nbformat": 4,
 "nbformat_minor": 1
}
